{
 "cells": [
  {
   "cell_type": "markdown",
   "metadata": {},
   "source": [
    "# Task 1"
   ],
   "id": "d056f391-4fc4-48f7-9913-0019c08a7b47"
  },
  {
   "cell_type": "code",
   "execution_count": 1,
   "metadata": {},
   "outputs": [],
   "source": [
    "#| echo: false\n",
    "import math"
   ],
   "id": "85e5c157"
  },
  {
   "cell_type": "markdown",
   "metadata": {},
   "source": [
    "# Task 1\n",
    "\n",
    "The Fourier transformation $f(x, y) \\rightarrowtail F(u, v)$ of a greyscale image $f(x,y)$ results in a band-limited signal in the spatial frequency range with maximum frequencies $f_{umax}$ and $ƒ_{vmax}$. For representation in the computer, the (partial) image is sampled in x direction with 20 sampling points per mm and in y direction with 10 sampling points per mm.\n",
    "\n",
    "1.  What is the theoretical maximum value of $f_{umax}$ and $f_{vmax}$ if error-free image reconstruction from the digital image should be possible (not using any compressive-sensing techniques)? (6pts)\n",
    "\n",
    "<span class=\"proof-title\">*Solution*. </span>According to the Nyquist sampling theorem, the maximum representable frequency (Nyquist frequency) in each direction is half the sampling frequency. The sampling frequency can be derived from the given sampling points per mm.\n",
    "\n",
    "-   Sampling frequency in x is $f_{sx}$ and the Nyquist frequency in x is $f_{umax}$: $$\n",
    "     \\begin{align*}\n",
    "      &f_{sx} = 20\\;\\text{points/mm} = 20 \\times 10^3 \\, \\text{points/m} \\\\\n",
    "      \\implies &f_{umax} = \\frac{f_{sx}}{2} = 10.0 \\, \\text{kHz}\n",
    "     \\end{align*}\n",
    "     $$\n",
    "\n",
    "-   Sampling frequency in y is $f_{sy}$ and the Nyquist frequency in y is $f_{vmax}$: $$\n",
    "     \\begin{align*}\n",
    "      &f_{sy} = 10 \\, \\text{points/mm} = 10 \\times 10^3 \\, \\text{points/m} \\\\\n",
    "      \\implies &f_{vmax} = \\frac{f_{sy}}{2} = 5.0 \\, \\text{kHz}\n",
    "     \\end{align*}\n",
    "      $$\n",
    "\n",
    "This ensures error-free reconstruction, as the digital image will contain all frequency components of the original image within the Nyquist limit. Frequencies above these limits would result in aliasing, violating error-free reconstruction conditions.\n",
    "\n",
    "What is the minimum memory requirement for the color image $f_F(x, y)$ when stored in a conventional computer system, if $1024$ values are to be distinguished per color channel. Describe the image format to be used.\n",
    "\n",
    "<span class=\"proof-title\">*Solution*. </span>To start lets find the number of ixels\n",
    "\n",
    "Let the image dimensions in mm be $L_x$ (width) and $L_y$ (height).  \n",
    "- Pixels in $x$-direction: $N_x = 10.0 \\cdot L_x$ - Pixels in $y$-direction: $N_y = 5.0 \\cdot L_y$ - Total number of pixels: $$\n",
    "N_{\\text{pixels}} = N_x \\cdot N_y = 50.0 \\cdot L_x \\cdot L_y\n",
    "$$\n",
    "\n",
    "Each pixel in a color image has values for three color channels: Red, Green, and Blue (RGB). Each channel can store $1024$ distinct values, which means $log_2^{1024} = 10.0$ bits per channel.\n",
    "\n",
    "Total bits per pixel: $b = 10.0 \\times 3 = 30.0$ bits/pixel.\n",
    "\n",
    "The memory requirement is the product of the number of pixels and bits per pixel: $$\n",
    "\\text{Used Memory} = N_{\\text{pixels}} \\cdot b = (50.0 \\cdot L_x \\cdot L_y) \\cdot b \\, \\text{bits} = 6.25 \\cdot L_x \\cdot L_y \\cdot 30.0 \\, \\text{bytes}\n",
    "$$\n",
    "\n",
    "TODO: Im not sure about the answer, I think it should not depend on $L_x$ and $L_y$.\n",
    "\n",
    "How many colors could be represented with the quantization chosen in sub-task 3? (2pts)\n",
    "\n",
    "<span class=\"proof-title\">*Solution*. </span>Where is sub-task 3? :("
   ],
   "id": "c2ff0ff6"
  }
 ],
 "nbformat": 4,
 "nbformat_minor": 5,
 "metadata": {}
}
